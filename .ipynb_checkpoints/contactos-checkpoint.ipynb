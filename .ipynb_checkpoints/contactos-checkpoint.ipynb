{
 "cells": [
  {
   "cell_type": "markdown",
   "id": "a1c03442-df89-4eb9-aefc-c353c41b65c3",
   "metadata": {},
   "source": [
    "# Contáctanos\n",
    "Envianos tus consultas\n",
    "![Contactos](contact-us.jpg)"
   ]
  },
  {
   "cell_type": "code",
   "execution_count": 11,
   "id": "2bacf65c-8977-41bd-a336-b8db7d2b52f4",
   "metadata": {},
   "outputs": [
    {
     "data": {
      "text/html": [
       "\n",
       "        <h2>Formulario de Contacto</h2>\n",
       "        <form action=\"\" method=\"post\" >\n",
       "            <label for=\"nombre\">Nombre:</label><br>\n",
       "            <input type=\"text\" id=\"nombre\" name=\"nombre\" required\"><br><br>\n",
       "\n",
       "            <label for=\"email\">Correo:</label><br>\n",
       "            <input type=\"email\" id=\"email\" name=\"email\" required><br><br>\n",
       "\n",
       "            <label for=\"mensaje\">Mensaje:</label><br>\n",
       "            <textarea id=\"mensaje\" name=\"mensaje\" rows=\"5\" required></textarea><br><br>\n",
       "\n",
       "            <input type=\"submit\" value=\"Enviar\">\n",
       "        </form>\n",
       "    "
      ],
      "text/plain": [
       "<IPython.core.display.HTML object>"
      ]
     },
     "metadata": {},
     "output_type": "display_data"
    }
   ],
   "source": [
    "from IPython.display import display, HTML\n",
    "\n",
    "# Función para manejar la presentación del formulario\n",
    "def show_contact_form():\n",
    "    display(HTML('''\n",
    "        <h2>Formulario de Contacto</h2>\n",
    "        <form action=\"\" method=\"post\" >\n",
    "            <label for=\"nombre\">Nombre:</label><br>\n",
    "            <input type=\"text\" id=\"nombre\" name=\"nombre\" required\"><br><br>\n",
    "\n",
    "            <label for=\"email\">Correo:</label><br>\n",
    "            <input type=\"email\" id=\"email\" name=\"email\" required><br><br>\n",
    "\n",
    "            <label for=\"mensaje\">Mensaje:</label><br>\n",
    "            <textarea id=\"mensaje\" name=\"mensaje\" rows=\"5\" required></textarea><br><br>\n",
    "\n",
    "            <input type=\"submit\" value=\"Enviar\">\n",
    "        </form>\n",
    "    '''))\n",
    "\n",
    "# Llamar a la función para mostrar el formulario\n",
    "show_contact_form()\n"
   ]
  },
  {
   "cell_type": "code",
   "execution_count": null,
   "id": "3ec4ab5e-a12c-4395-a290-c5d6a4346c69",
   "metadata": {},
   "outputs": [],
   "source": []
  }
 ],
 "metadata": {
  "kernelspec": {
   "display_name": "Python 3 (ipykernel)",
   "language": "python",
   "name": "python3"
  },
  "language_info": {
   "codemirror_mode": {
    "name": "ipython",
    "version": 3
   },
   "file_extension": ".py",
   "mimetype": "text/x-python",
   "name": "python",
   "nbconvert_exporter": "python",
   "pygments_lexer": "ipython3",
   "version": "3.12.0"
  }
 },
 "nbformat": 4,
 "nbformat_minor": 5
}
