{
 "cells": [
  {
   "cell_type": "markdown",
   "id": "a776f910-44e6-48cf-87cd-4bf9588c62b7",
   "metadata": {},
   "source": [
    "# Inicio"
   ]
  },
  {
   "cell_type": "markdown",
   "id": "9ed5b3f7-187e-4423-98da-2fbc66715e8b",
   "metadata": {},
   "source": [
    "El Proyecto Jupyter es una organización sin ánimo de lucro creada para \"desarrollar software de código abierto, estándares abiertos y servicios para computación interactiva en docenas de lenguajes de programación\". Creado a partir de   __[IPython](https://es.wikipedia.org/wiki/IPython)__\n"
   ]
  },
  {
   "cell_type": "markdown",
   "id": "3de8b036-e51b-439c-8802-5a6fd2554df2",
   "metadata": {},
   "source": [
    "![Logo](Jupyter_logo.png)"
   ]
  },
  {
   "cell_type": "markdown",
   "id": "799eabbe-f0a8-4328-a8af-dadcc73e14bd",
   "metadata": {},
   "source": [
    "# Fredy Sánchez - UTPL TI"
   ]
  }
 ],
 "metadata": {
  "kernelspec": {
   "display_name": "Python 3 (ipykernel)",
   "language": "python",
   "name": "python3"
  },
  "language_info": {
   "codemirror_mode": {
    "name": "ipython",
    "version": 3
   },
   "file_extension": ".py",
   "mimetype": "text/x-python",
   "name": "python",
   "nbconvert_exporter": "python",
   "pygments_lexer": "ipython3",
   "version": "3.12.0"
  }
 },
 "nbformat": 4,
 "nbformat_minor": 5
}
