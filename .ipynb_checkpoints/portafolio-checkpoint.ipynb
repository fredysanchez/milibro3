{
 "cells": [
  {
   "cell_type": "markdown",
   "id": "ebeeb900-40eb-42f0-86d1-b3830d960ac9",
   "metadata": {},
   "source": [
    "# Bienvenidos a mi primera página en Jupyter"
   ]
  },
  {
   "cell_type": "markdown",
   "id": "2afd8608-e68c-4b9f-8704-be3d90c06de6",
   "metadata": {},
   "source": [
    "<style>\n",
    "    /* Estilo para el menú */\n",
    "    .menu {\n",
    "        background-color: ffff00;\n",
    "        display: flex;\n",
    "        justify-content: space-around;\n",
    "        padding: 10px;\n",
    "        text-align: center;\n",
    "        border: 3px solid green;\n",
    "        font-size: 1.2rem;\n",
    "    }\n",
    "    \n",
    "    /* Estilo para los elementos del menú */\n",
    "    .menu-item {\n",
    "        color: white;\n",
    "        font-weight: bold;\n",
    "        text-decoration: none;\n",
    "        margin: 0 20px;\n",
    "    }\n",
    "</style>\n",
    "\n",
    "<div class=\"menu\">\n",
    "    <a class=\"menu-item\" href=\"index.ipynb\">Inicio</a>\n",
    "    <a class=\"menu-item\" href=\"portafolio.ipynb\">Portafolio</a>\n",
    "    <a class=\"menu-item\" href=\"productos.ipynb\">Productos</a>\n",
    "    <a class=\"menu-item\" href=\"contactos.ipynb\">Contactos</a>\n",
    "</div>"
   ]
  },
  {
   "cell_type": "markdown",
   "id": "dee61625-da26-4810-8392-07031c8e32bf",
   "metadata": {},
   "source": [
    "![Portafolio](portafolio.png)"
   ]
  },
  {
   "cell_type": "markdown",
   "id": "a65386a3-7dfe-4aa3-b794-9ff18a69009d",
   "metadata": {},
   "source": [
    "Un Portfolio Digital , también conocido como Portafolio electrónico o e-Portafolio, es una herramienta que recoge el conjunto de contenido, documentos, obras, presentaciones y demás con el objetivo de presentar el mejor trabajo de un individuo u organización, presentados en formato digital. De esta forma, se presenta como una agrupación de contenidos digitales que funciona a modo de presentación. Se trata de un elemento que esta popularizándose enormemente en el mundo digital debido a su facilidad para ser compartido en internet, tanto por redes sociales, páginas web y correo electrónico.\n",
    "\n"
   ]
  },
  {
   "cell_type": "code",
   "execution_count": null,
   "id": "eec7a12e-ebf7-4371-b30a-d6d0391801b0",
   "metadata": {},
   "outputs": [],
   "source": []
  }
 ],
 "metadata": {
  "kernelspec": {
   "display_name": "Python 3 (ipykernel)",
   "language": "python",
   "name": "python3"
  },
  "language_info": {
   "codemirror_mode": {
    "name": "ipython",
    "version": 3
   },
   "file_extension": ".py",
   "mimetype": "text/x-python",
   "name": "python",
   "nbconvert_exporter": "python",
   "pygments_lexer": "ipython3",
   "version": "3.12.0"
  }
 },
 "nbformat": 4,
 "nbformat_minor": 5
}
