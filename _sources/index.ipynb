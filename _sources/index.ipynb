{
 "cells": [
  {
   "cell_type": "markdown",
   "id": "a776f910-44e6-48cf-87cd-4bf9588c62b7",
   "metadata": {},
   "source": [
    "# Bienvenidos a mi primera página en Jupyter"
   ]
  },
  {
   "cell_type": "markdown",
   "id": "b74063f2-4238-4fa2-b906-b4fd74853559",
   "metadata": {},
   "source": [
    "<style>\n",
    "    /* Estilo para el menú */\n",
    "    .menu {\n",
    "        background-color: ffff00;\n",
    "        display: flex;\n",
    "        justify-content: space-around;\n",
    "        padding: 10px;\n",
    "        text-align: center;\r",
    "         border: 3px solid green\n",
    "        font-size: 1.2rem;;\n",
    "    }\n",
    "    \n",
    "    /* Estilo para los elementos del menú */\n",
    "    .menu-item {\n",
    "        color: white;\n",
    "        font-weight: bold;\n",
    "        text-decoration: none;\n",
    "        margin: 0 20px;\n",
    "    }\n",
    "</style>\n",
    "\n",
    "<div class=\"menu\">\n",
    "    <a class=\"menu-item\" href=\"nosotros.ipynb\">Inicio</a>\n",
    "    <a class=\"menu-item\" href=\"portafolio.ipynb\">Portafolio</a>\n",
    "    <a class=\"menu-item\" href=\"productos.ipynb\">Productos</a>\n",
    "    <a class=\"menu-item\" href=\"contactos.ipynb\">Contactos</a>\n",
    "</div>\n"
   ]
  },
  {
   "cell_type": "markdown",
   "id": "9ed5b3f7-187e-4423-98da-2fbc66715e8b",
   "metadata": {},
   "source": [
    "El Proyecto Jupyter es una organización sin ánimo de lucro creada para \"desarrollar software de código abierto, estándares abiertos y servicios para computación interactiva en docenas de lenguajes de programación\". Creado a partir de   __[IPython](https://es.wikipedia.org/wiki/IPython)__\n"
   ]
  },
  {
   "cell_type": "markdown",
   "id": "3de8b036-e51b-439c-8802-5a6fd2554df2",
   "metadata": {},
   "source": [
    "![Logo](Jupyter_logo.png)"
   ]
  },
  {
   "cell_type": "code",
   "execution_count": null,
   "id": "94caaf95-95b3-4012-8c40-a9d1a9bcd188",
   "metadata": {},
   "outputs": [],
   "source": []
  }
 ],
 "metadata": {
  "kernelspec": {
   "display_name": "Python 3 (ipykernel)",
   "language": "python",
   "name": "python3"
  },
  "language_info": {
   "codemirror_mode": {
    "name": "ipython",
    "version": 3
   },
   "file_extension": ".py",
   "mimetype": "text/x-python",
   "name": "python",
   "nbconvert_exporter": "python",
   "pygments_lexer": "ipython3",
   "version": "3.12.0"
  }
 },
 "nbformat": 4,
 "nbformat_minor": 5
}
