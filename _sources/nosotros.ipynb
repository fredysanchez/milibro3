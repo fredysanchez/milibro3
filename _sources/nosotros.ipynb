{
 "cells": [
  {
   "cell_type": "markdown",
   "id": "7d193bd2-d639-437a-b3ca-f390e62b1a47",
   "metadata": {},
   "source": [
    "# Bienvenidos a mi primera página en Jupyter"
   ]
  },
  {
   "cell_type": "markdown",
   "id": "39b676f0-22d6-42be-ad97-bc761d17be2c",
   "metadata": {},
   "source": [
    "<style>\n",
    "    /* Estilo para el menú */\n",
    "    .menu {\n",
    "        background-color: ffff00;\n",
    "        display: flex;\n",
    "        justify-content: space-around;\n",
    "        padding: 10px;\n",
    "    }\n",
    "    \n",
    "    /* Estilo para los elementos del menú */\n",
    "    .menu-item {\n",
    "        color: white;\n",
    "        font-weight: bold;\n",
    "        text-decoration: none;\n",
    "        margin: 0 20px;\n",
    "    }\n",
    "</style>\n",
    "\n",
    "<div class=\"menu\">\n",
    "    <a class=\"menu-item\" href=\"index.ipynb\">Inicio</a>\n",
    "    <a class=\"menu-item\" href=\"portafolio.ipynb\">Portafolio</a>\n",
    "    <a class=\"menu-item\" href=\"productos.ipynb\">Productos</a>\n",
    "    <a class=\"menu-item\" href=\"contactos.ipynb\">Contactos</a>\n",
    "</div>\n"
   ]
  },
  {
   "cell_type": "markdown",
   "id": "22bb9786-5a57-4916-8971-b8ad0ed25bca",
   "metadata": {},
   "source": [
    "# ¿Quiénes somos?\n",
    "Somos una empresa dedicada a brindar soluciones innovadoras en tecnología. Fundada en 2000, hemos estado comprometidos en ofrecer a nuestros clientes  de alta calidad y un servicio excepcional.\r\n",
    "C creemos en la importancia de la excelencia y la satisfacción del cliente. Nuestra visión elograra los objetivos de la compañían], y trabajamos incansablemente para cumplirla."
   ]
  },
  {
   "cell_type": "markdown",
   "id": "b91b2a54-3535-4106-be4c-9cd0862f508b",
   "metadata": {},
   "source": [
    "![Somos](quienes-somos.jpg)"
   ]
  },
  {
   "cell_type": "markdown",
   "id": "b15f0a20-3614-4cef-9318-020161bd0ebc",
   "metadata": {},
   "source": [
    "# Nuestra Misión\n",
    "Nos esforzamos por lo que haces para lograr la misión con el objetivo de los beneficios que proporcionas a tus clientes o la sociedad."
   ]
  },
  {
   "cell_type": "markdown",
   "id": "5fb088af-6ee0-46b7-9088-1f96053797a6",
   "metadata": {},
   "source": [
    "# Nuestro Equipo\n",
    "Nuestro equipo está compuesto por profesionales altamente capacitados y apasionados en campo de actividad. Combinamos nuestra experiencia con la creatividad y la innovación para abordar los desafíos de nuestros clientes y superar sus expectativas."
   ]
  },
  {
   "cell_type": "markdown",
   "id": "9366898b-e88e-450d-8f05-e0c0b9b38b90",
   "metadata": {},
   "source": [
    "# Valores Fundamentales\n",
    "Nos guiamos por valores fundamentales que son la base de todo lo que hacemos:\n",
    "\n",
    "- Compromiso con la excelencia.\n",
    "- Integridad y honestidad en cada interacción.\n",
    "- Innovación constante.\n",
    "- Atención al cliente excepcional.\n",
    "- Responsabilidad social y ambiental."
   ]
  },
  {
   "cell_type": "markdown",
   "id": "6bdade4b-b465-4dfc-a9a8-9d9bee95631b",
   "metadata": {},
   "source": [
    "![Logros](logros.png)"
   ]
  },
  {
   "cell_type": "code",
   "execution_count": null,
   "id": "0fd0bf10-b01c-491b-982d-e761d1a671f6",
   "metadata": {},
   "outputs": [],
   "source": []
  }
 ],
 "metadata": {
  "kernelspec": {
   "display_name": "Python 3 (ipykernel)",
   "language": "python",
   "name": "python3"
  },
  "language_info": {
   "codemirror_mode": {
    "name": "ipython",
    "version": 3
   },
   "file_extension": ".py",
   "mimetype": "text/x-python",
   "name": "python",
   "nbconvert_exporter": "python",
   "pygments_lexer": "ipython3",
   "version": "3.12.0"
  }
 },
 "nbformat": 4,
 "nbformat_minor": 5
}
