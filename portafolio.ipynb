{
 "cells": [
  {
   "cell_type": "markdown",
   "id": "ebeeb900-40eb-42f0-86d1-b3830d960ac9",
   "metadata": {},
   "source": [
    "# Portafolio"
   ]
  },
  {
   "cell_type": "markdown",
   "id": "dee61625-da26-4810-8392-07031c8e32bf",
   "metadata": {},
   "source": [
    "![Portafolio](portafolio.png)"
   ]
  },
  {
   "cell_type": "markdown",
   "id": "a65386a3-7dfe-4aa3-b794-9ff18a69009d",
   "metadata": {},
   "source": [
    "Un Portfolio Digital , también conocido como Portafolio electrónico o e-Portafolio, es una herramienta que recoge el conjunto de contenido, documentos, obras, presentaciones y demás con el objetivo de presentar el mejor trabajo de un individuo u organización, presentados en formato digital. De esta forma, se presenta como una agrupación de contenidos digitales que funciona a modo de presentación. Se trata de un elemento que esta popularizándose enormemente en el mundo digital debido a su facilidad para ser compartido en internet, tanto por redes sociales, páginas web y correo electrónico.\n",
    "\n"
   ]
  },
  {
   "cell_type": "markdown",
   "id": "04a21100-1e9c-4a55-9faf-53d65282acef",
   "metadata": {},
   "source": [
    "![Catalogo](catalogo.jpeg)"
   ]
  },
  {
   "cell_type": "code",
   "execution_count": null,
   "id": "6f16eb56-d52c-4f5c-8838-a4ea5c8aeeb5",
   "metadata": {},
   "outputs": [],
   "source": []
  }
 ],
 "metadata": {
  "kernelspec": {
   "display_name": "Python 3 (ipykernel)",
   "language": "python",
   "name": "python3"
  },
  "language_info": {
   "codemirror_mode": {
    "name": "ipython",
    "version": 3
   },
   "file_extension": ".py",
   "mimetype": "text/x-python",
   "name": "python",
   "nbconvert_exporter": "python",
   "pygments_lexer": "ipython3",
   "version": "3.12.0"
  }
 },
 "nbformat": 4,
 "nbformat_minor": 5
}
